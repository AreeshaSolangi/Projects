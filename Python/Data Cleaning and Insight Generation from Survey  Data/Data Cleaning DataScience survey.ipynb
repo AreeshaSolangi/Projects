{
 "cells": [
  {
   "cell_type": "code",
   "execution_count": 356,
   "id": "58db0b74-f47e-4007-8422-3bf1ab246460",
   "metadata": {},
   "outputs": [],
   "source": [
    "import pandas as pd\n",
    "import numpy as np"
   ]
  },
  {
   "cell_type": "code",
   "execution_count": 358,
   "id": "540f769b-852e-4667-af4d-a813418427d9",
   "metadata": {},
   "outputs": [],
   "source": [
    "df=pd.read_csv(r\"C:\\Users\\ABC\\Documents\\datascience survey\\DataSceinceSurvey.csv\", dtype=str)"
   ]
  },
  {
   "cell_type": "code",
   "execution_count": 359,
   "id": "be827f10-9154-448a-a9ea-adb358db7d1a",
   "metadata": {},
   "outputs": [
    {
     "data": {
      "text/plain": [
       "(106301, 195)"
      ]
     },
     "execution_count": 359,
     "metadata": {},
     "output_type": "execute_result"
    }
   ],
   "source": [
    "df.shape"
   ]
  },
  {
   "cell_type": "code",
   "execution_count": 360,
   "id": "9f62a7e0-fc30-49b3-a71e-94f646e0deab",
   "metadata": {},
   "outputs": [],
   "source": [
    "df.drop_duplicates(inplace=True)"
   ]
  },
  {
   "cell_type": "code",
   "execution_count": 361,
   "id": "4746ef6e-e189-49c5-91d2-8f791d2a2b70",
   "metadata": {},
   "outputs": [
    {
     "data": {
      "text/plain": [
       "(101833, 195)"
      ]
     },
     "execution_count": 361,
     "metadata": {},
     "output_type": "execute_result"
    }
   ],
   "source": [
    "df.shape"
   ]
  },
  {
   "cell_type": "code",
   "execution_count": 362,
   "id": "c877dd2a-a94f-4157-8509-0bd6f0b51f2c",
   "metadata": {},
   "outputs": [],
   "source": [
    "dropCol=[col for col in df.columns if \"Other\" in col or \"None\" in col ]\n",
    "df.drop(columns=dropCol, inplace=True)"
   ]
  },
  {
   "cell_type": "code",
   "execution_count": 363,
   "id": "52f62f1c-e621-45b9-b03c-29bda4314622",
   "metadata": {},
   "outputs": [
    {
     "data": {
      "text/plain": [
       "(101833, 190)"
      ]
     },
     "execution_count": 363,
     "metadata": {},
     "output_type": "execute_result"
    }
   ],
   "source": [
    "df.shape"
   ]
  },
  {
   "cell_type": "markdown",
   "id": "2e6fdf71-98cb-4e38-8171-b2b437b0bb01",
   "metadata": {},
   "source": [
    "## remove uneccesarycolumns"
   ]
  },
  {
   "cell_type": "code",
   "execution_count": 368,
   "id": "33859a68-1d7f-4b7e-93ac-3a6916e236d0",
   "metadata": {},
   "outputs": [],
   "source": [
    "dropCol=df.columns[188:]\n",
    "df.drop(columns=dropCol, inplace=True)"
   ]
  },
  {
   "cell_type": "code",
   "execution_count": 371,
   "id": "55f8bdff-7cd0-462c-9cbf-cf0582a8bf62",
   "metadata": {},
   "outputs": [],
   "source": [
    "dropCol=[col for col in df.columns if \"HW\" in col or \"TPU\" in col or \"CV_\" in col or \"DS\" in col or \"ML_in_Business\" in col or \"ML_Cloud_Spend\" in col or \"MML\" in col or \"AutoML_\" in col or \"MLExp_\" in col or \"Media_\" in col or \"Share_\" in col \n",
    "or \"Course_\" in col or \"DurationInSeconds\" in col or \"Company_Size\" in col]\n",
    "df.drop(columns=dropCol, inplace=True)\n"
   ]
  },
  {
   "cell_type": "code",
   "execution_count": 375,
   "id": "9c0d5dad-2913-4bbe-ae2b-e70258680fef",
   "metadata": {},
   "outputs": [
    {
     "data": {
      "text/plain": [
       "(101833, 177)"
      ]
     },
     "execution_count": 375,
     "metadata": {},
     "output_type": "execute_result"
    }
   ],
   "source": [
    "df.shape"
   ]
  },
  {
   "cell_type": "code",
   "execution_count": 378,
   "id": "ca6fa9b0-511d-419b-bdcf-3cff100d8385",
   "metadata": {},
   "outputs": [],
   "source": [
    "df.reset_index(drop=True, inplace=True)\n"
   ]
  },
  {
   "cell_type": "code",
   "execution_count": 380,
   "id": "39232934-7272-4657-ade6-27d5b255a962",
   "metadata": {},
   "outputs": [],
   "source": [
    "df.fillna(\"\",inplace=True)"
   ]
  },
  {
   "cell_type": "code",
   "execution_count": 381,
   "id": "93acb255-58ea-450d-a75a-3a924f5c23e7",
   "metadata": {},
   "outputs": [
    {
     "data": {
      "text/plain": [
       "array(['5-10 years', '20+ years', '1-3 years', '< 1 years', '3-5 years',\n",
       "       '10-20 years', 'I have never written code', '1-2 years', '',\n",
       "       'I have never written code but I want to learn', '< 1 year',\n",
       "       '20-30 years', '30-40 years',\n",
       "       'I have never written code and I do not want to learn',\n",
       "       '40+ years', 'More than 10 years', 'Less than a year',\n",
       "       '3 to 5 years', '6 to 10 years', '1 to 2 years',\n",
       "       \"I don't write code to analyze data\"], dtype=object)"
      ]
     },
     "execution_count": 381,
     "metadata": {},
     "output_type": "execute_result"
    }
   ],
   "source": [
    "df[\"Coding_Years\"].unique()"
   ]
  },
  {
   "cell_type": "code",
   "execution_count": 382,
   "id": "ecf770d1-6085-4ed8-b59d-bbeaae6093aa",
   "metadata": {},
   "outputs": [],
   "source": [
    "col=df.columns[120:]\n",
    "df.drop(columns=col, inplace=True)"
   ]
  },
  {
   "cell_type": "markdown",
   "id": "e6f2c723-a141-4a57-b315-7fa25969fdef",
   "metadata": {},
   "source": [
    "## categorical handling"
   ]
  },
  {
   "cell_type": "code",
   "execution_count": 387,
   "id": "ebc47eb8-c8e6-4525-8de5-68ece36d7e84",
   "metadata": {},
   "outputs": [],
   "source": [
    "experience_map = {\n",
    "    'I have never written code': 'Never coded',\n",
    "    'I have never written code but I want to learn': 'Never coded',\n",
    "    'I have never written code and I do not want to learn': 'Never coded',\n",
    "    \"I don't write code to analyze data\": 'Never coded',\n",
    "    '< 1 years': 'Less than 1 year',\n",
    "    '< 1 year': 'Less than 1 year',\n",
    "    'Less than a year': 'Less than 1 year',\n",
    "    '1-2 years': '1-2 years',\n",
    "    '1 to 2 years': '1-2 years',\n",
    "    '1-3 years': '1-3 years',\n",
    "    '3-5 years': '3-5 years',\n",
    "    '3 to 5 years': '3-5 years',\n",
    "    '5-10 years': '5-10 years',\n",
    "    '6 to 10 years': '5-10 years',\n",
    "    '10-20 years': '10-20 years',\n",
    "    'More than 10 years': '10+ years',\n",
    "    '20+ years': '20+ years',\n",
    "    '20-30 years': '20+ years',\n",
    "    '30-40 years': '20+ years',\n",
    "    '40+ years': '20+ years',\n",
    "    '': np.nan   # blank values → missing\n",
    "}\n",
    "\n",
    "df['Coding_Years'] = df['Coding_Years'].replace(experience_map)\n"
   ]
  },
  {
   "cell_type": "code",
   "execution_count": 389,
   "id": "07383348-ac80-413a-997b-4cb92f57eea1",
   "metadata": {},
   "outputs": [
    {
     "data": {
      "text/plain": [
       "array(['A laptop',\n",
       "       'A cloud computing platform (AWS, Azure, GCP, hosted notebooks, etc)',\n",
       "       'A personal computer / desktop',\n",
       "       'A deep learning workstation (NVIDIA GTX, LambdaLabs, etc)', '',\n",
       "       'Other', 'A personal computer or laptop'], dtype=object)"
      ]
     },
     "execution_count": 389,
     "metadata": {},
     "output_type": "execute_result"
    }
   ],
   "source": [
    "df[\"Platform\"].unique()"
   ]
  },
  {
   "cell_type": "code",
   "execution_count": 391,
   "id": "6c7c7721-f4e7-4e3e-be8d-184959bf1724",
   "metadata": {},
   "outputs": [],
   "source": [
    "hardware_map = {\n",
    "    'A laptop': 'Laptop',\n",
    "    'A personal computer / desktop': 'Desktop',\n",
    "    'A personal computer or laptop': 'Laptop',\n",
    "    'A cloud computing platform (AWS, Azure, GCP, hosted notebooks, etc)': 'Cloud platform',\n",
    "    'A deep learning workstation (NVIDIA GTX, LambdaLabs, etc)': 'Workstation',\n",
    "    'Other': 'Other',\n",
    "    '': np.nan   # blank values → missing\n",
    "}\n",
    "\n",
    "df['Platform'] = df['Platform'].replace(hardware_map)\n",
    "\n"
   ]
  },
  {
   "cell_type": "code",
   "execution_count": 393,
   "id": "c9abab87-5eb2-4137-898a-d7f2e2917364",
   "metadata": {},
   "outputs": [
    {
     "data": {
      "text/plain": [
       "array(['Laptop', 'Cloud platform', 'Desktop', 'Workstation', nan, 'Other'],\n",
       "      dtype=object)"
      ]
     },
     "execution_count": 393,
     "metadata": {},
     "output_type": "execute_result"
    }
   ],
   "source": [
    "df[\"Platform\"].unique()"
   ]
  },
  {
   "cell_type": "code",
   "execution_count": 397,
   "id": "e7be8904-c0a8-48f5-add8-f0f9e123aae2",
   "metadata": {},
   "outputs": [
    {
     "data": {
      "text/plain": [
       "array(['Local development environments (RStudio, JupyterLab, etc.)',\n",
       "       'Advanced statistical software (SPSS, SAS, etc.)',\n",
       "       'Basic statistical software (Microsoft Excel, Google Sheets, etc.)',\n",
       "       '',\n",
       "       'Business intelligence software (Salesforce, Tableau, Spotfire, etc.)',\n",
       "       'Cloud-based data software & APIs (AWS, GCP, Azure, etc.)',\n",
       "       'Other'], dtype=object)"
      ]
     },
     "execution_count": 397,
     "metadata": {},
     "output_type": "execute_result"
    }
   ],
   "source": [
    "df[\"Tool_Primary\"].unique()"
   ]
  },
  {
   "cell_type": "code",
   "execution_count": 403,
   "id": "2934ef54-cb66-4c0b-9257-9bbe10cf3633",
   "metadata": {},
   "outputs": [],
   "source": [
    "mapping = {\n",
    "    \"Local development environments (RStudio, JupyterLab, etc.)\": \"Local Dev (RStudio, JupyterLab)\",\n",
    "    \"Advanced statistical software (SPSS, SAS, etc.)\": \"Stat Software (SPSS, SAS)\",\n",
    "    \"Basic statistical software (Microsoft Excel, Google Sheets, etc.)\": \"Basic Tools (Excel, Sheets)\",\n",
    "    \"Business intelligence software (Salesforce, Tableau, Spotfire, etc.)\": \"BI Tools (Tableau, Salesforce, Spotfire)\",\n",
    "    \"Cloud-based data software & APIs (AWS, GCP, Azure, etc.)\": \"Cloud & APIs (AWS, GCP, Azure)\",\n",
    "    \"Other\":np.nan,\n",
    "    \"\": np.nan  # if you want to replace blank with Other\n",
    "}\n",
    "\n",
    "df[\"Tool_Primary\"]=df[\"Tool_Primary\"].replace(mapping)"
   ]
  },
  {
   "cell_type": "code",
   "execution_count": 405,
   "id": "9a60c66a-01b8-4fe8-b500-5fbbbc78775e",
   "metadata": {},
   "outputs": [
    {
     "data": {
      "text/plain": [
       "array(['Local Dev (RStudio, JupyterLab)', 'Stat Software (SPSS, SAS)',\n",
       "       'Basic Tools (Excel, Sheets)', nan,\n",
       "       'BI Tools (Tableau, Salesforce, Spotfire)',\n",
       "       'Cloud & APIs (AWS, GCP, Azure)'], dtype=object)"
      ]
     },
     "execution_count": 405,
     "metadata": {},
     "output_type": "execute_result"
    }
   ],
   "source": [
    "df[\"Tool_Primary\"].unique()"
   ]
  },
  {
   "cell_type": "code",
   "execution_count": 407,
   "id": "b5f10d2e-46d4-401d-b4da-5da9c828d32b",
   "metadata": {},
   "outputs": [
    {
     "data": {
      "text/plain": [
       "array(['Manufacturing/Fabrication', 'Academics/Education', '',\n",
       "       'Computers/Technology', 'Other', 'Shipping/Transportation',\n",
       "       'Energy/Mining', 'Insurance/Risk Assessment', 'Non-profit/Service',\n",
       "       'Accounting/Finance', 'Hospitality/Entertainment/Sports',\n",
       "       'Government/Public Service',\n",
       "       'Online Service/Internet-based Services',\n",
       "       'Online Business/Internet-based Sales', 'Medical/Pharmaceutical',\n",
       "       'Retail/Sales', 'Broadcasting/Communications', 'Marketing/CRM',\n",
       "       'Military/Security/Defense', 'I am a student'], dtype=object)"
      ]
     },
     "execution_count": 407,
     "metadata": {},
     "output_type": "execute_result"
    }
   ],
   "source": [
    "df[\"Industry\"].unique()"
   ]
  },
  {
   "cell_type": "code",
   "execution_count": 409,
   "id": "70a41300-77ba-457a-9a52-81e735ce771d",
   "metadata": {},
   "outputs": [],
   "source": [
    "# Mapping dictionary for industry\n",
    "new = {\n",
    "    '': np.nan,\n",
    "    'Manufacturing/Fabrication': 'Manufacturing/Fabrication',\n",
    "    'Academics/Education': 'Academics/Education',\n",
    "    'Computers/Technology': 'Computers/Technology',\n",
    "    'Other': 'Other',\n",
    "    'Shipping/Transportation': 'Shipping/Transportation',\n",
    "    'Energy/Mining': 'Energy/Mining',\n",
    "    'Insurance/Risk Assessment': 'Insurance/Risk Assessment',\n",
    "    'Non-profit/Service': 'Non-profit/Service',\n",
    "    'Accounting/Finance': 'Accounting/Finance',\n",
    "    'Hospitality/Entertainment/Sports': 'Hospitality/Entertainment/Sports',\n",
    "    'Government/Public Service': 'Government/Public Service',\n",
    "    'Online Service/Internet-based Services': 'Online Service/Internet-based Services',\n",
    "    'Online Business/Internet-based Sales': 'Online Business/Internet-based Sales',\n",
    "    'Medical/Pharmaceutical': 'Medical/Pharmaceutical',\n",
    "    'Retail/Sales': 'Retail/Sales',\n",
    "    'Broadcasting/Communications': 'Broadcasting/Communications',\n",
    "    'Marketing/CRM': 'Marketing/CRM',\n",
    "    'Military/Security/Defense': 'Military/Security/Defense',\n",
    "    'I am a student': 'Student'\n",
    "}\n",
    "\n",
    "# Apply replacement\n",
    "df[\"Industry\"] = df[\"Industry\"].replace(new)\n",
    "\n"
   ]
  },
  {
   "cell_type": "code",
   "execution_count": 411,
   "id": "8ee5bcbe-c2de-45cc-8be1-2e46e49647b6",
   "metadata": {},
   "outputs": [
    {
     "data": {
      "text/plain": [
       "array(['Manufacturing/Fabrication', 'Academics/Education', nan,\n",
       "       'Computers/Technology', 'Other', 'Shipping/Transportation',\n",
       "       'Energy/Mining', 'Insurance/Risk Assessment', 'Non-profit/Service',\n",
       "       'Accounting/Finance', 'Hospitality/Entertainment/Sports',\n",
       "       'Government/Public Service',\n",
       "       'Online Service/Internet-based Services',\n",
       "       'Online Business/Internet-based Sales', 'Medical/Pharmaceutical',\n",
       "       'Retail/Sales', 'Broadcasting/Communications', 'Marketing/CRM',\n",
       "       'Military/Security/Defense', 'Student'], dtype=object)"
      ]
     },
     "execution_count": 411,
     "metadata": {},
     "output_type": "execute_result"
    }
   ],
   "source": [
    "df[\"Industry\"].unique()"
   ]
  },
  {
   "cell_type": "code",
   "execution_count": 413,
   "id": "4da0258c-60ba-4b3a-847c-b83f151a157f",
   "metadata": {},
   "outputs": [
    {
     "data": {
      "text/html": [
       "<div>\n",
       "<style scoped>\n",
       "    .dataframe tbody tr th:only-of-type {\n",
       "        vertical-align: middle;\n",
       "    }\n",
       "\n",
       "    .dataframe tbody tr th {\n",
       "        vertical-align: top;\n",
       "    }\n",
       "\n",
       "    .dataframe thead th {\n",
       "        text-align: right;\n",
       "    }\n",
       "</style>\n",
       "<table border=\"1\" class=\"dataframe\">\n",
       "  <thead>\n",
       "    <tr style=\"text-align: right;\">\n",
       "      <th></th>\n",
       "      <th>Year</th>\n",
       "      <th>Age</th>\n",
       "      <th>Gender</th>\n",
       "      <th>Country</th>\n",
       "      <th>Education</th>\n",
       "      <th>Role</th>\n",
       "      <th>Coding_Years</th>\n",
       "      <th>Lang_Python</th>\n",
       "      <th>Lang_R</th>\n",
       "      <th>Lang_SQL</th>\n",
       "      <th>...</th>\n",
       "      <th>BI_Tableau</th>\n",
       "      <th>BI_Salesforce</th>\n",
       "      <th>BI_Qlik</th>\n",
       "      <th>BI_Domo</th>\n",
       "      <th>BI_Spotfire</th>\n",
       "      <th>BI_Alteryx</th>\n",
       "      <th>BI_Sisense</th>\n",
       "      <th>BI_SAP</th>\n",
       "      <th>BI_MostUsed</th>\n",
       "      <th>Tool_Primary</th>\n",
       "    </tr>\n",
       "  </thead>\n",
       "  <tbody>\n",
       "    <tr>\n",
       "      <th>0</th>\n",
       "      <td>2021</td>\n",
       "      <td>50-54</td>\n",
       "      <td>Man</td>\n",
       "      <td>India</td>\n",
       "      <td>Bachelor’s degree</td>\n",
       "      <td>Other</td>\n",
       "      <td>5-10 years</td>\n",
       "      <td>Python</td>\n",
       "      <td>R</td>\n",
       "      <td></td>\n",
       "      <td>...</td>\n",
       "      <td></td>\n",
       "      <td></td>\n",
       "      <td></td>\n",
       "      <td></td>\n",
       "      <td></td>\n",
       "      <td></td>\n",
       "      <td></td>\n",
       "      <td></td>\n",
       "      <td></td>\n",
       "      <td>Local Dev (RStudio, JupyterLab)</td>\n",
       "    </tr>\n",
       "    <tr>\n",
       "      <th>1</th>\n",
       "      <td>2021</td>\n",
       "      <td>50-54</td>\n",
       "      <td>Man</td>\n",
       "      <td>Indonesia</td>\n",
       "      <td>Master’s degree</td>\n",
       "      <td>Program/Project Manager</td>\n",
       "      <td>20+ years</td>\n",
       "      <td></td>\n",
       "      <td></td>\n",
       "      <td>SQL</td>\n",
       "      <td>...</td>\n",
       "      <td></td>\n",
       "      <td></td>\n",
       "      <td></td>\n",
       "      <td></td>\n",
       "      <td></td>\n",
       "      <td></td>\n",
       "      <td></td>\n",
       "      <td></td>\n",
       "      <td></td>\n",
       "      <td>Stat Software (SPSS, SAS)</td>\n",
       "    </tr>\n",
       "    <tr>\n",
       "      <th>2</th>\n",
       "      <td>2021</td>\n",
       "      <td>22-24</td>\n",
       "      <td>Man</td>\n",
       "      <td>Pakistan</td>\n",
       "      <td>Master’s degree</td>\n",
       "      <td>Software Engineer</td>\n",
       "      <td>1-3 years</td>\n",
       "      <td>Python</td>\n",
       "      <td></td>\n",
       "      <td></td>\n",
       "      <td>...</td>\n",
       "      <td></td>\n",
       "      <td></td>\n",
       "      <td></td>\n",
       "      <td></td>\n",
       "      <td></td>\n",
       "      <td></td>\n",
       "      <td></td>\n",
       "      <td></td>\n",
       "      <td></td>\n",
       "      <td>Basic Tools (Excel, Sheets)</td>\n",
       "    </tr>\n",
       "    <tr>\n",
       "      <th>3</th>\n",
       "      <td>2021</td>\n",
       "      <td>45-49</td>\n",
       "      <td>Man</td>\n",
       "      <td>Mexico</td>\n",
       "      <td>Doctoral degree</td>\n",
       "      <td>Research Scientist</td>\n",
       "      <td>20+ years</td>\n",
       "      <td>Python</td>\n",
       "      <td></td>\n",
       "      <td></td>\n",
       "      <td>...</td>\n",
       "      <td></td>\n",
       "      <td></td>\n",
       "      <td></td>\n",
       "      <td></td>\n",
       "      <td></td>\n",
       "      <td></td>\n",
       "      <td></td>\n",
       "      <td></td>\n",
       "      <td></td>\n",
       "      <td>Local Dev (RStudio, JupyterLab)</td>\n",
       "    </tr>\n",
       "    <tr>\n",
       "      <th>4</th>\n",
       "      <td>2021</td>\n",
       "      <td>45-49</td>\n",
       "      <td>Man</td>\n",
       "      <td>India</td>\n",
       "      <td>Doctoral degree</td>\n",
       "      <td>Other</td>\n",
       "      <td>Less than 1 year</td>\n",
       "      <td>Python</td>\n",
       "      <td></td>\n",
       "      <td></td>\n",
       "      <td>...</td>\n",
       "      <td></td>\n",
       "      <td></td>\n",
       "      <td></td>\n",
       "      <td></td>\n",
       "      <td></td>\n",
       "      <td></td>\n",
       "      <td></td>\n",
       "      <td></td>\n",
       "      <td></td>\n",
       "      <td>Local Dev (RStudio, JupyterLab)</td>\n",
       "    </tr>\n",
       "    <tr>\n",
       "      <th>...</th>\n",
       "      <td>...</td>\n",
       "      <td>...</td>\n",
       "      <td>...</td>\n",
       "      <td>...</td>\n",
       "      <td>...</td>\n",
       "      <td>...</td>\n",
       "      <td>...</td>\n",
       "      <td>...</td>\n",
       "      <td>...</td>\n",
       "      <td>...</td>\n",
       "      <td>...</td>\n",
       "      <td>...</td>\n",
       "      <td>...</td>\n",
       "      <td>...</td>\n",
       "      <td>...</td>\n",
       "      <td>...</td>\n",
       "      <td>...</td>\n",
       "      <td>...</td>\n",
       "      <td>...</td>\n",
       "      <td>...</td>\n",
       "      <td>...</td>\n",
       "    </tr>\n",
       "    <tr>\n",
       "      <th>101828</th>\n",
       "      <td>2017</td>\n",
       "      <td>30-34</td>\n",
       "      <td>Male</td>\n",
       "      <td>People 's Republic of China</td>\n",
       "      <td>Master's degree</td>\n",
       "      <td>DBA/Database Engineer</td>\n",
       "      <td>3-5 years</td>\n",
       "      <td></td>\n",
       "      <td></td>\n",
       "      <td></td>\n",
       "      <td>...</td>\n",
       "      <td></td>\n",
       "      <td></td>\n",
       "      <td></td>\n",
       "      <td></td>\n",
       "      <td></td>\n",
       "      <td></td>\n",
       "      <td></td>\n",
       "      <td></td>\n",
       "      <td></td>\n",
       "      <td>NaN</td>\n",
       "    </tr>\n",
       "    <tr>\n",
       "      <th>101829</th>\n",
       "      <td>2017</td>\n",
       "      <td>22-24</td>\n",
       "      <td>Female</td>\n",
       "      <td>Other</td>\n",
       "      <td>Master's degree</td>\n",
       "      <td></td>\n",
       "      <td>Less than 1 year</td>\n",
       "      <td></td>\n",
       "      <td></td>\n",
       "      <td></td>\n",
       "      <td>...</td>\n",
       "      <td></td>\n",
       "      <td></td>\n",
       "      <td></td>\n",
       "      <td></td>\n",
       "      <td></td>\n",
       "      <td></td>\n",
       "      <td></td>\n",
       "      <td></td>\n",
       "      <td></td>\n",
       "      <td>NaN</td>\n",
       "    </tr>\n",
       "    <tr>\n",
       "      <th>101830</th>\n",
       "      <td>2017</td>\n",
       "      <td>25-29</td>\n",
       "      <td>Male</td>\n",
       "      <td>Indonesia</td>\n",
       "      <td>Bachelor's degree</td>\n",
       "      <td>Programmer</td>\n",
       "      <td>1-2 years</td>\n",
       "      <td></td>\n",
       "      <td></td>\n",
       "      <td></td>\n",
       "      <td>...</td>\n",
       "      <td></td>\n",
       "      <td></td>\n",
       "      <td></td>\n",
       "      <td></td>\n",
       "      <td></td>\n",
       "      <td></td>\n",
       "      <td></td>\n",
       "      <td></td>\n",
       "      <td></td>\n",
       "      <td>NaN</td>\n",
       "    </tr>\n",
       "    <tr>\n",
       "      <th>101831</th>\n",
       "      <td>2017</td>\n",
       "      <td></td>\n",
       "      <td>Female</td>\n",
       "      <td>Singapore</td>\n",
       "      <td>I prefer not to answer</td>\n",
       "      <td></td>\n",
       "      <td>NaN</td>\n",
       "      <td></td>\n",
       "      <td></td>\n",
       "      <td></td>\n",
       "      <td>...</td>\n",
       "      <td></td>\n",
       "      <td></td>\n",
       "      <td></td>\n",
       "      <td></td>\n",
       "      <td></td>\n",
       "      <td></td>\n",
       "      <td></td>\n",
       "      <td></td>\n",
       "      <td></td>\n",
       "      <td>NaN</td>\n",
       "    </tr>\n",
       "    <tr>\n",
       "      <th>101832</th>\n",
       "      <td>2017</td>\n",
       "      <td>25-29</td>\n",
       "      <td>Male</td>\n",
       "      <td>Japan</td>\n",
       "      <td>I did not complete any formal education past h...</td>\n",
       "      <td>Programmer</td>\n",
       "      <td>NaN</td>\n",
       "      <td></td>\n",
       "      <td></td>\n",
       "      <td></td>\n",
       "      <td>...</td>\n",
       "      <td></td>\n",
       "      <td></td>\n",
       "      <td></td>\n",
       "      <td></td>\n",
       "      <td></td>\n",
       "      <td></td>\n",
       "      <td></td>\n",
       "      <td></td>\n",
       "      <td></td>\n",
       "      <td>NaN</td>\n",
       "    </tr>\n",
       "  </tbody>\n",
       "</table>\n",
       "<p>101833 rows × 120 columns</p>\n",
       "</div>"
      ],
      "text/plain": [
       "        Year    Age  Gender                      Country  \\\n",
       "0       2021  50-54     Man                        India   \n",
       "1       2021  50-54     Man                    Indonesia   \n",
       "2       2021  22-24     Man                     Pakistan   \n",
       "3       2021  45-49     Man                       Mexico   \n",
       "4       2021  45-49     Man                        India   \n",
       "...      ...    ...     ...                          ...   \n",
       "101828  2017  30-34    Male  People 's Republic of China   \n",
       "101829  2017  22-24  Female                        Other   \n",
       "101830  2017  25-29    Male                    Indonesia   \n",
       "101831  2017         Female                    Singapore   \n",
       "101832  2017  25-29    Male                        Japan   \n",
       "\n",
       "                                                Education  \\\n",
       "0                                       Bachelor’s degree   \n",
       "1                                         Master’s degree   \n",
       "2                                         Master’s degree   \n",
       "3                                         Doctoral degree   \n",
       "4                                         Doctoral degree   \n",
       "...                                                   ...   \n",
       "101828                                    Master's degree   \n",
       "101829                                    Master's degree   \n",
       "101830                                  Bachelor's degree   \n",
       "101831                             I prefer not to answer   \n",
       "101832  I did not complete any formal education past h...   \n",
       "\n",
       "                           Role      Coding_Years Lang_Python Lang_R Lang_SQL  \\\n",
       "0                         Other        5-10 years      Python      R            \n",
       "1       Program/Project Manager         20+ years                         SQL   \n",
       "2             Software Engineer         1-3 years      Python                   \n",
       "3            Research Scientist         20+ years      Python                   \n",
       "4                         Other  Less than 1 year      Python                   \n",
       "...                         ...               ...         ...    ...      ...   \n",
       "101828    DBA/Database Engineer         3-5 years                               \n",
       "101829                           Less than 1 year                               \n",
       "101830               Programmer         1-2 years                               \n",
       "101831                                        NaN                               \n",
       "101832               Programmer               NaN                               \n",
       "\n",
       "        ... BI_Tableau BI_Salesforce BI_Qlik BI_Domo BI_Spotfire BI_Alteryx  \\\n",
       "0       ...                                                                   \n",
       "1       ...                                                                   \n",
       "2       ...                                                                   \n",
       "3       ...                                                                   \n",
       "4       ...                                                                   \n",
       "...     ...        ...           ...     ...     ...         ...        ...   \n",
       "101828  ...                                                                   \n",
       "101829  ...                                                                   \n",
       "101830  ...                                                                   \n",
       "101831  ...                                                                   \n",
       "101832  ...                                                                   \n",
       "\n",
       "       BI_Sisense BI_SAP BI_MostUsed                     Tool_Primary  \n",
       "0                                     Local Dev (RStudio, JupyterLab)  \n",
       "1                                           Stat Software (SPSS, SAS)  \n",
       "2                                         Basic Tools (Excel, Sheets)  \n",
       "3                                     Local Dev (RStudio, JupyterLab)  \n",
       "4                                     Local Dev (RStudio, JupyterLab)  \n",
       "...           ...    ...         ...                              ...  \n",
       "101828                                                            NaN  \n",
       "101829                                                            NaN  \n",
       "101830                                                            NaN  \n",
       "101831                                                            NaN  \n",
       "101832                                                            NaN  \n",
       "\n",
       "[101833 rows x 120 columns]"
      ]
     },
     "execution_count": 413,
     "metadata": {},
     "output_type": "execute_result"
    }
   ],
   "source": [
    "df"
   ]
  },
  {
   "cell_type": "code",
   "execution_count": 415,
   "id": "a09aebee-d830-4543-bf30-2299a69f2519",
   "metadata": {},
   "outputs": [
    {
     "data": {
      "text/plain": [
       "array(['Man', 'Woman', 'Nonbinary', 'Prefer not to say',\n",
       "       'Prefer to self-describe', 'Male', 'Female',\n",
       "       'Non-binary, genderqueer, or gender non-conforming',\n",
       "       'A different identity', ''], dtype=object)"
      ]
     },
     "execution_count": 415,
     "metadata": {},
     "output_type": "execute_result"
    }
   ],
   "source": [
    "df[\"Gender\"].unique()"
   ]
  },
  {
   "cell_type": "code",
   "execution_count": 417,
   "id": "aae44966-5f65-4246-826b-9e43d3f7f59d",
   "metadata": {},
   "outputs": [],
   "source": [
    "new = {\n",
    "    'Man': 'Male',\n",
    "    'Male': 'Male',\n",
    "    'Woman': 'Female',\n",
    "    'Female': 'Female',\n",
    "    'Nonbinary': 'Non-binary',\n",
    "    'Non-binary, genderqueer, or gender non-conforming': 'Non-binary',\n",
    "    'Prefer not to say': 'Prefer not to say',\n",
    "    'Prefer to self-describe': 'Prefer to self-describe',\n",
    "    'A different identity': 'Prefer to self-describe',\n",
    "    '': np.nan\n",
    "}\n",
    "df[\"Gender\"]=df[\"Gender\"].replace(new)"
   ]
  },
  {
   "cell_type": "code",
   "execution_count": 419,
   "id": "cd04e0f0-7c33-48f8-b0fa-3bd0aaecd09c",
   "metadata": {},
   "outputs": [
    {
     "data": {
      "text/plain": [
       "array(['Male', 'Female', 'Non-binary', 'Prefer not to say',\n",
       "       'Prefer to self-describe', nan], dtype=object)"
      ]
     },
     "execution_count": 419,
     "metadata": {},
     "output_type": "execute_result"
    }
   ],
   "source": [
    "df[\"Gender\"].unique()"
   ]
  },
  {
   "cell_type": "code",
   "execution_count": 421,
   "id": "2d31c7c8-67b3-45c5-962a-b8a5f722cbea",
   "metadata": {},
   "outputs": [
    {
     "data": {
      "text/plain": [
       "array(['', 'Jupyter (JupyterLab, Jupyter Notebooks, etc) ',\n",
       "       'Jupyter/IPython'], dtype=object)"
      ]
     },
     "execution_count": 421,
     "metadata": {},
     "output_type": "execute_result"
    }
   ],
   "source": [
    "df[\"IDE_Jupyter\"].unique()"
   ]
  },
  {
   "cell_type": "code",
   "execution_count": 423,
   "id": "bb95a3db-7e05-49bb-94a3-d56893ca83e9",
   "metadata": {},
   "outputs": [],
   "source": [
    "# Mapping dictionary\n",
    "new = {\n",
    "    '': np.nan,\n",
    "    'Jupyter (JupyterLab, Jupyter Notebooks, etc) ': 'Jupyter',\n",
    "    'Jupyter/IPython': 'Jupyter'\n",
    "}\n",
    "\n",
    "# Apply replacement\n",
    "df[\"IDE_Jupyter\"] = df[\"IDE_Jupyter\"].replace(new)\n",
    "\n",
    "\n"
   ]
  },
  {
   "cell_type": "code",
   "execution_count": 425,
   "id": "ce2783af-2743-49d3-b661-089f8a0ab5fd",
   "metadata": {},
   "outputs": [
    {
     "data": {
      "text/plain": [
       "array([nan, 'Jupyter'], dtype=object)"
      ]
     },
     "execution_count": 425,
     "metadata": {},
     "output_type": "execute_result"
    }
   ],
   "source": [
    "df[\"IDE_Jupyter\"].unique()"
   ]
  },
  {
   "cell_type": "code",
   "execution_count": 427,
   "id": "d1ae9c28-e375-4800-a8e7-8e387602403d",
   "metadata": {},
   "outputs": [
    {
     "data": {
      "text/plain": [
       "array(['India', 'Indonesia', 'Pakistan', 'Mexico', 'Russia', 'Turkey',\n",
       "       'Australia', 'Nigeria', 'Greece', 'Belgium', 'Japan', 'Egypt',\n",
       "       'Singapore', 'Brazil', 'Poland', 'China',\n",
       "       'Iran, Islamic Republic of...', 'United States of America',\n",
       "       'Italy', 'Viet Nam', 'Israel', 'Peru', 'South Africa', 'Other',\n",
       "       'Spain', 'Bangladesh',\n",
       "       'United Kingdom of Great Britain and Northern Ireland', 'France',\n",
       "       'Switzerland', 'Algeria', 'Tunisia', 'Argentina', 'Sweden',\n",
       "       'Colombia', 'I do not wish to disclose my location', 'Canada',\n",
       "       'Chile', 'Netherlands', 'Ukraine', 'Saudi Arabia', 'Romania',\n",
       "       'Morocco', 'Austria', 'Taiwan', 'Kenya', 'Belarus', 'Ireland',\n",
       "       'Portugal', 'Hong Kong (S.A.R.)', 'Denmark', 'Germany',\n",
       "       'South Korea', 'Philippines', 'Sri Lanka', 'United Arab Emirates',\n",
       "       'Uganda', 'Ghana', 'Malaysia', 'Thailand', 'Nepal', 'Kazakhstan',\n",
       "       'Ethiopia', 'Iraq', 'Ecuador', 'Norway', 'Czech Republic',\n",
       "       'Republic of Korea', 'Hungary', 'New Zealand', 'Finland', '',\n",
       "       'United States', 'United Kingdom', \"People 's Republic of China\",\n",
       "       'Iran', 'Hong Kong', 'Republic of China', 'Vietnam'], dtype=object)"
      ]
     },
     "execution_count": 427,
     "metadata": {},
     "output_type": "execute_result"
    }
   ],
   "source": [
    "df[\"Country\"].unique()"
   ]
  },
  {
   "cell_type": "code",
   "execution_count": 429,
   "id": "4672b05f-2e87-418f-bb7b-6183b4a666d0",
   "metadata": {},
   "outputs": [],
   "source": [
    "df[\"Country\"]=df[\"Country\"].astype(str)"
   ]
  },
  {
   "cell_type": "code",
   "execution_count": 431,
   "id": "28eba3ad-2424-48a5-9f53-2ead2818d90c",
   "metadata": {},
   "outputs": [],
   "source": [
    "country_map = {\n",
    "    'United States of America': 'United States',\n",
    "    'United States': 'United States',\n",
    "    'United Kingdom of Great Britain and Northern Ireland': 'United Kingdom',\n",
    "    'United Kingdom': 'United Kingdom',\n",
    "    'China': 'China',\n",
    "    \"People 's Republic of China\": 'China',\n",
    "    'Republic of China': 'China',\n",
    "    'Viet Nam': 'Vietnam',\n",
    "    'Vietnam': 'Vietnam',\n",
    "    'Iran, Islamic Republic of...': 'Iran',\n",
    "    'Iran': 'Iran',\n",
    "    'Hong Kong (S.A.R.)': 'Hong Kong',\n",
    "    'Hong Kong': 'Hong Kong',\n",
    "    '': np.nan,\n",
    "    'I do not wish to disclose my location': np.nan\n",
    "}\n"
   ]
  },
  {
   "cell_type": "code",
   "execution_count": 433,
   "id": "4c9f3f24-4af7-42a4-a91c-465e6fee79bd",
   "metadata": {},
   "outputs": [],
   "source": [
    "df[\"Country\"]=df[\"Country\"].replace(country_map)"
   ]
  },
  {
   "cell_type": "code",
   "execution_count": 435,
   "id": "a0302cef-6df1-465f-bee6-354170a7c5dd",
   "metadata": {},
   "outputs": [
    {
     "data": {
      "text/plain": [
       "array(['India', 'Indonesia', 'Pakistan', 'Mexico', 'Russia', 'Turkey',\n",
       "       'Australia', 'Nigeria', 'Greece', 'Belgium', 'Japan', 'Egypt',\n",
       "       'Singapore', 'Brazil', 'Poland', 'China', 'Iran', 'United States',\n",
       "       'Italy', 'Vietnam', 'Israel', 'Peru', 'South Africa', 'Other',\n",
       "       'Spain', 'Bangladesh', 'United Kingdom', 'France', 'Switzerland',\n",
       "       'Algeria', 'Tunisia', 'Argentina', 'Sweden', 'Colombia', nan,\n",
       "       'Canada', 'Chile', 'Netherlands', 'Ukraine', 'Saudi Arabia',\n",
       "       'Romania', 'Morocco', 'Austria', 'Taiwan', 'Kenya', 'Belarus',\n",
       "       'Ireland', 'Portugal', 'Hong Kong', 'Denmark', 'Germany',\n",
       "       'South Korea', 'Philippines', 'Sri Lanka', 'United Arab Emirates',\n",
       "       'Uganda', 'Ghana', 'Malaysia', 'Thailand', 'Nepal', 'Kazakhstan',\n",
       "       'Ethiopia', 'Iraq', 'Ecuador', 'Norway', 'Czech Republic',\n",
       "       'Republic of Korea', 'Hungary', 'New Zealand', 'Finland'],\n",
       "      dtype=object)"
      ]
     },
     "execution_count": 435,
     "metadata": {},
     "output_type": "execute_result"
    }
   ],
   "source": [
    "df[\"Country\"].unique()"
   ]
  },
  {
   "cell_type": "code",
   "execution_count": 437,
   "id": "51882e21-96a3-4c71-a73f-f015d6679a2a",
   "metadata": {},
   "outputs": [
    {
     "data": {
      "text/plain": [
       "array(['Bachelor’s degree', 'Master’s degree', 'Doctoral degree',\n",
       "       'I prefer not to answer',\n",
       "       'Some college/university study without earning a bachelor’s degree',\n",
       "       'No formal education past high school', 'Professional doctorate',\n",
       "       'Professional degree', '', \"Bachelor's degree\", \"Master's degree\",\n",
       "       \"Some college/university study without earning a bachelor's degree\",\n",
       "       'I did not complete any formal education past high school'],\n",
       "      dtype=object)"
      ]
     },
     "execution_count": 437,
     "metadata": {},
     "output_type": "execute_result"
    }
   ],
   "source": [
    "df[\"Education\"].unique()"
   ]
  },
  {
   "cell_type": "code",
   "execution_count": 439,
   "id": "2a67d246-b8b9-48d5-a5c1-01428c191917",
   "metadata": {},
   "outputs": [],
   "source": [
    "df[\"Education\"]=df[\"Education\"].astype(str)"
   ]
  },
  {
   "cell_type": "code",
   "execution_count": 441,
   "id": "8124baff-830b-4a68-8861-6ce9c7879d30",
   "metadata": {},
   "outputs": [],
   "source": [
    "education_map = {\n",
    "    \"Bachelor’s degree\": \"Bachelor's degree\",\n",
    "    \"Bachelor's degree\": \"Bachelor's degree\",\n",
    "    \"Master’s degree\": \"Master's degree\",\n",
    "    \"Master's degree\": \"Master's degree\",\n",
    "    \"Doctoral degree\": \"Doctoral degree\",\n",
    "    \"Professional doctorate\": \"Doctoral degree\",\n",
    "    \"Professional degree\": \"Doctoral degree\",\n",
    "    \"Some college/university study without earning a bachelor’s degree\": \"Some college/university study without earning a bachelor's degree\",\n",
    "    \"Some college/university study without earning a bachelor's degree\": \"Some college/university study without earning a bachelor's degree\",\n",
    "    \"No formal education past high school\": \"No formal education past high school\",\n",
    "    \"I did not complete any formal education past high school\": \"No formal education past high school\",\n",
    "    \"I prefer not to answer\": \"I prefer not to answer\",\n",
    "    \"\": np.nan, \"Unknown\":np.nan\n",
    "    \n",
    "}\n",
    "df[\"Education\"]=df[\"Education\"].replace(education_map)"
   ]
  },
  {
   "cell_type": "code",
   "execution_count": 443,
   "id": "78d3b65d-a647-4aea-b67a-a18f23dcf3ad",
   "metadata": {},
   "outputs": [
    {
     "data": {
      "text/plain": [
       "array([\"Bachelor's degree\", \"Master's degree\", 'Doctoral degree',\n",
       "       'I prefer not to answer',\n",
       "       \"Some college/university study without earning a bachelor's degree\",\n",
       "       'No formal education past high school', nan], dtype=object)"
      ]
     },
     "execution_count": 443,
     "metadata": {},
     "output_type": "execute_result"
    }
   ],
   "source": [
    "df[\"Education\"].unique()"
   ]
  },
  {
   "cell_type": "code",
   "execution_count": 445,
   "id": "8b97ddf8-7c53-42ec-bf1d-9a6b81a5d22b",
   "metadata": {},
   "outputs": [
    {
     "data": {
      "text/plain": [
       "array(['Other', 'Program/Project Manager', 'Software Engineer',\n",
       "       'Research Scientist', 'Currently not employed', 'Student',\n",
       "       'Data Scientist', 'Data Analyst', 'Machine Learning Engineer',\n",
       "       'Business Analyst', 'Data Engineer', 'Product Manager',\n",
       "       'Statistician', 'Developer Relations/Advocacy',\n",
       "       'DBA/Database Engineer', 'Product/Project Manager', '',\n",
       "       'Not employed', 'Consultant', 'Research Assistant',\n",
       "       'Chief Officer', 'Manager', 'Developer Advocate',\n",
       "       'Marketing Analyst', 'Principal Investigator', 'Salesperson',\n",
       "       'Data Journalist', 'Operations Research Practitioner',\n",
       "       'Computer Scientist', 'Software Developer/Software Engineer',\n",
       "       'Engineer', 'Scientist/Researcher', 'Researcher',\n",
       "       'Predictive Modeler', 'Programmer', 'Data Miner'], dtype=object)"
      ]
     },
     "execution_count": 445,
     "metadata": {},
     "output_type": "execute_result"
    }
   ],
   "source": [
    "df[\"Role\"].unique()"
   ]
  },
  {
   "cell_type": "code",
   "execution_count": 447,
   "id": "2bf9e666-0391-4585-a5bd-f0df0d041eb1",
   "metadata": {},
   "outputs": [
    {
     "data": {
      "text/plain": [
       "array(['Other', 'Program/Project Manager', 'Software Engineer',\n",
       "       'Research Scientist', 'Not employed', 'Student', 'Data Scientist',\n",
       "       'Data Analyst', 'Machine Learning Engineer', 'Business Analyst',\n",
       "       'Data Engineer', 'Product Manager', 'Statistician',\n",
       "       'Developer Advocate', nan, 'Consultant', 'Research Assistant',\n",
       "       'Chief Officer', 'Manager', 'Marketing Analyst',\n",
       "       'Principal Investigator', 'Salesperson', 'Data Journalist',\n",
       "       'Operations Research Practitioner', 'Computer Scientist',\n",
       "       'Engineer', 'Predictive Modeler', 'Programmer', 'Data Miner'],\n",
       "      dtype=object)"
      ]
     },
     "execution_count": 447,
     "metadata": {},
     "output_type": "execute_result"
    }
   ],
   "source": [
    "# Mapping dictionary to standardize job roles\n",
    "job_map = {\n",
    "    'Program/Project Manager': 'Program/Project Manager',\n",
    "    'Product/Project Manager': 'Program/Project Manager',\n",
    "    'Software Engineer': 'Software Engineer',\n",
    "    'Software Developer/Software Engineer': 'Software Engineer',\n",
    "    'Research Scientist': 'Research Scientist',\n",
    "    'Scientist/Researcher': 'Research Scientist',\n",
    "    'Researcher': 'Research Scientist',\n",
    "    'Data Scientist': 'Data Scientist',\n",
    "    'Machine Learning Engineer': 'Machine Learning Engineer',\n",
    "    'Data Analyst': 'Data Analyst',\n",
    "    'Business Analyst': 'Business Analyst',\n",
    "    'Data Engineer': 'Data Engineer',\n",
    "    'DBA/Database Engineer': 'Data Engineer',\n",
    "    'Developer Relations/Advocacy': 'Developer Advocate',\n",
    "    'Developer Advocate': 'Developer Advocate',\n",
    "    'Product Manager': 'Product Manager',\n",
    "    'Statistician': 'Statistician',\n",
    "    'Programmer': 'Programmer',\n",
    "    'Predictive Modeler': 'Predictive Modeler',\n",
    "    'Data Miner': 'Data Miner',\n",
    "    'Data Journalist': 'Data Journalist',\n",
    "    'Operations Research Practitioner': 'Operations Research Practitioner',\n",
    "    'Computer Scientist': 'Computer Scientist',\n",
    "    'Engineer': 'Engineer',\n",
    "    'Chief Officer': 'Chief Officer',\n",
    "    'Manager': 'Manager',\n",
    "    'Marketing Analyst': 'Marketing Analyst',\n",
    "    'Salesperson': 'Salesperson',\n",
    "    'Currently not employed': 'Not employed',\n",
    "    'Not employed': 'Not employed',\n",
    "    'Student': 'Student',\n",
    "    'Other': 'Other',\n",
    "    '': np.nan\n",
    "}\n",
    "\n",
    "# Apply replacement\n",
    "df[\"Role\"] = df[\"Role\"].replace(job_map)\n",
    "\n",
    "df[\"Role\"].unique()"
   ]
  },
  {
   "cell_type": "code",
   "execution_count": 449,
   "id": "b07710f0-e847-4808-ba52-7b1d6560586b",
   "metadata": {},
   "outputs": [
    {
     "data": {
      "text/plain": [
       "array(['', '  Notepad++  ', '  Spyder  ', '  Sublime Text  ',\n",
       "       '  Vim / Emacs  ', ' MATLAB ', ' PyCharm ', ' RStudio ',\n",
       "       ' Visual Studio / Visual Studio Code ', 'Jupyter', 'MATLAB',\n",
       "       'Notepad++', 'PyCharm', 'RStudio', 'Spyder', 'Sublime Text', 'Vim',\n",
       "       'Visual Studio', 'Visual Studio/ Visual Studio Code'], dtype='<U36')"
      ]
     },
     "execution_count": 449,
     "metadata": {},
     "output_type": "execute_result"
    }
   ],
   "source": [
    "values = df[df.columns[19:28]].values.flatten()\n",
    "values=[val for val in values if pd.notnull(val)]\n",
    "\n",
    "notnull=np.unique(values)\n",
    "notnull"
   ]
  },
  {
   "cell_type": "code",
   "execution_count": 450,
   "id": "02d97456-dbcc-434e-a9b7-4fd7a12d8c67",
   "metadata": {},
   "outputs": [],
   "source": [
    "df.iloc[:, 19:28] =df.iloc[:, 19:28].apply(lambda x: x.strip() if isinstance(x,str) else x)"
   ]
  },
  {
   "cell_type": "code",
   "execution_count": 451,
   "id": "203a3d82-fafe-4a41-b947-5e9d01fbe12d",
   "metadata": {},
   "outputs": [],
   "source": [
    "tool_map = {\n",
    "    'MATLAB': 'Matlab',\n",
    "    ' MATLAB ': 'Matlab',\n",
    "    'Jupyter': 'Jupyter',\n",
    "    'PyCharm': 'PyCharm',\n",
    "    ' Spyder ': 'Spyder',\n",
    "    'Spyder': 'Spyder',\n",
    "    'Sublime Text': 'Sublime Text',\n",
    "    ' Sublime Text  ': 'Sublime Text',\n",
    "    'Notepad++': 'Notepad++',\n",
    "    '  Notepad++  ': 'Notepad++',\n",
    "    'RStudio': 'RStudio',\n",
    "    ' RStudio ': 'RStudio',\n",
    "    'Vim / Emacs': 'Vim/Emacs',\n",
    "    'Vim': 'Vim/Emacs',\n",
    "    'Visual Studio / Visual Studio Code': 'Visual Studio/Visual Studio Code',\n",
    "    'Visual Studio': 'Visual Studio/Visual Studio Code',\n",
    "    'Visual Studio/ Visual Studio Code': 'Visual Studio/Visual Studio Code'\n",
    "}"
   ]
  },
  {
   "cell_type": "code",
   "execution_count": 452,
   "id": "d3fa3ba3-f9d3-4642-beb3-44ae2c914e60",
   "metadata": {},
   "outputs": [],
   "source": [
    "df.iloc[:, 19:28]=df.iloc[:, 19:28].replace(tool_map)"
   ]
  },
  {
   "cell_type": "code",
   "execution_count": 456,
   "id": "dfd02497-dc2f-4cd5-b4a5-06871c9b7bff",
   "metadata": {},
   "outputs": [
    {
     "data": {
      "text/plain": [
       "array(['', 'Visual Studio/Visual Studio Code',\n",
       "       ' Visual Studio / Visual Studio Code '], dtype=object)"
      ]
     },
     "execution_count": 456,
     "metadata": {},
     "output_type": "execute_result"
    }
   ],
   "source": [
    "df[\"IDE_VSCode\"].unique()"
   ]
  },
  {
   "cell_type": "code",
   "execution_count": 457,
   "id": "3ab80bfb-1826-4a14-ba6f-b738c44d80b3",
   "metadata": {},
   "outputs": [
    {
     "data": {
      "text/plain": [
       "array(['BI_Alteryx', 'BI_DataStudio', 'BI_Domo', 'BI_Looker',\n",
       "       'BI_MostUsed', 'BI_PowerBI', 'BI_Qlik', 'BI_QuickSight', 'BI_SAP',\n",
       "       'BI_Salesforce', 'BI_Sisense', 'BI_Spotfire', 'BI_Tableau',\n",
       "       'DB_BigQuery', 'DB_CloudSQL', 'DB_DynamoDB', 'DB_Firestore',\n",
       "       'DB_MostUsed', 'DB_Redshift', 'Tool_Primary'], dtype='<U13')"
      ]
     },
     "execution_count": 457,
     "metadata": {},
     "output_type": "execute_result"
    }
   ],
   "source": [
    " values=df[df.columns[100:]]\n",
    "values=[val for val in values if pd.notnull(val) ]\n",
    "notnull=np.unique(values)\n",
    "notnull\n"
   ]
  },
  {
   "cell_type": "code",
   "execution_count": 465,
   "id": "979d5bce-3dde-4c9a-b357-bcd5ac0af811",
   "metadata": {},
   "outputs": [
    {
     "data": {
      "text/plain": [
       "(101833, 119)"
      ]
     },
     "execution_count": 465,
     "metadata": {},
     "output_type": "execute_result"
    }
   ],
   "source": [
    "df.shape"
   ]
  },
  {
   "cell_type": "code",
   "execution_count": 467,
   "id": "bfd159c4-6ef4-458f-8d92-1fea1b648338",
   "metadata": {},
   "outputs": [],
   "source": [
    "df[\"Comp_USD\"].unique()\n",
    "df['Comp_USD'] = df['Comp_USD'].str.replace('$','').str.replace(' ','')\n",
    "salary_map = {\n",
    "    '10-20,000': '10,000-20,000',\n",
    "    '20-30,000': '20,000-30,000',\n",
    "    '30-40,000': '30,000-39,999',\n",
    "    '40-50,000': '40,000-49,999',\n",
    "    '50-60,000': '50,000-59,999',\n",
    "    '60-70,000': '60,000-69,999',\n",
    "    '70-80,000': '70,000-79,999',\n",
    "    '80-90,000': '80,000-89,999',\n",
    "    '90-100,000': '90,000-99,999',\n",
    "    '100-125,000': '100,000-124,999',\n",
    "    '125-150,000': '125,000-149,999',\n",
    "    '150-200,000': '150,000-199,999',\n",
    "    '200-250,000': '200,000-249,999',\n",
    "    '250-300,000': '250,000-299,999',\n",
    "    '300-400,000': '300,000-399,999',\n",
    "    '400-500,000': '400,000-499,999',\n",
    "    '500,000+': '500,000-999,999',\n",
    "    '>$1,000,000': '1,000,000+'\n",
    "}\n",
    "\n",
    "df['Comp_USD'] = df['Comp_USD'].replace(salary_map)"
   ]
  },
  {
   "cell_type": "code",
   "execution_count": 469,
   "id": "82180ed8-85f7-4fa5-b626-005fbf0d9a20",
   "metadata": {},
   "outputs": [],
   "source": [
    "#replace all \"\" with nan\n",
    "df=df.replace(\"\",np.nan)"
   ]
  },
  {
   "cell_type": "markdown",
   "id": "5de41d54-8c55-43c8-8afb-16596b601152",
   "metadata": {},
   "source": [
    "## cleaned data"
   ]
  },
  {
   "cell_type": "markdown",
   "id": "bfcd2999-0446-482a-bf67-4f1824b373ad",
   "metadata": {},
   "source": [
    "## Find Insights"
   ]
  },
  {
   "cell_type": "markdown",
   "id": "f1f29980-a12d-4cf8-bb9e-85dc0cacb03d",
   "metadata": {},
   "source": [
    "now lets solve questions to find insights"
   ]
  },
  {
   "cell_type": "code",
   "execution_count": 474,
   "id": "37d4ad8d-4f70-42e4-bbed-3eb92696dcb2",
   "metadata": {},
   "outputs": [
    {
     "data": {
      "text/plain": [
       "Text(0.5, 1.0, 'Respondents By Age')"
      ]
     },
     "execution_count": 474,
     "metadata": {},
     "output_type": "execute_result"
    },
    {
     "data": {
      "image/png": "[encoded data removed]",
      "text/plain": [
       "<Figure size 640x480 with 1 Axes>"
      ]
     },
     "metadata": {},
     "output_type": "display_data"
    }
   ],
   "source": [
    "# Which age groups are more likely to respond or use certain tools.\n",
    "import matplotlib.pyplot as plt\n",
    "agegroup=df[\"Age\"].value_counts().reset_index()\n",
    "agegroup.columns=[\"Age Group\",\"count\"]\n",
    "agegroup.plot(kind=\"bar\", x=\"Age Group\",y=\"count\")\n",
    "plt.xlabel(\"Age Group\")\n",
    "plt.ylabel(\"Count\")\n",
    "plt.title(\"Respondents By Age\")"
   ]
  },
  {
   "cell_type": "code",
   "execution_count": 476,
   "id": "e0833b61-8ed6-4d73-bd15-dbbac043767a",
   "metadata": {},
   "outputs": [],
   "source": [
    "#     Which industries are adopting data science more.\n",
    "DS_adoptionRate=df[[\"Role\",\"Industry\"]][(df[\"Role\"]==\"Data Scientist\") & (df[\"Industry\"].notna())].groupby(\"Industry\")[\"Role\"].count().sort_values(ascending=False)"
   ]
  },
  {
   "cell_type": "code",
   "execution_count": 478,
   "id": "691bfb21-eabc-4585-b2ef-19dc2de401c1",
   "metadata": {},
   "outputs": [
    {
     "data": {
      "text/plain": [
       "Text(0.5, 1.0, 'Industries Employing Data Science')"
      ]
     },
     "execution_count": 478,
     "metadata": {},
     "output_type": "execute_result"
    },
    {
     "data": {
      "image/png": "[encoded data removed]",
      "text/plain": [
       "<Figure size 1000x600 with 1 Axes>"
      ]
     },
     "metadata": {},
     "output_type": "display_data"
    }
   ],
   "source": [
    "DS_adoptionRate.plot(kind=\"bar\", figsize=(10,6))\n",
    "plt.ylabel(\"# Of Data Scientist\")\n",
    "plt.title(\"Industries Employing Data Science\")"
   ]
  },
  {
   "cell_type": "code",
   "execution_count": 490,
   "id": "a24e9b99-d7eb-409e-be3e-80ef88f3ad44",
   "metadata": {},
   "outputs": [
    {
     "data": {
      "text/plain": [
       "Text(0, 0.5, 'Number of Respondents')"
      ]
     },
     "execution_count": 490,
     "metadata": {},
     "output_type": "execute_result"
    },
    {
     "data": {
      "image/png": "[encoded data removed]",
      "text/plain": [
       "<Figure size 640x480 with 1 Axes>"
      ]
     },
     "metadata": {},
     "output_type": "display_data"
    }
   ],
   "source": [
    "df[\"Tool_Primary\"].value_counts().plot(kind=\"bar\")\n",
    "plt.title(\"Distribution of Respondents by Primary Tool\")\n",
    "plt.ylabel(\"Number of Respondents\")"
   ]
  },
  {
   "cell_type": "code",
   "execution_count": 662,
   "id": "1bd7413f-97be-43f1-950a-f430ade98ef5",
   "metadata": {},
   "outputs": [
    {
     "data": {
      "text/plain": [
       "Text(0, 0.5, '')"
      ]
     },
     "execution_count": 662,
     "metadata": {},
     "output_type": "execute_result"
    },
    {
     "data": {
      "image/png": "[encoded data removed]",
      "text/plain": [
       "<Figure size 640x480 with 1 Axes>"
      ]
     },
     "metadata": {},
     "output_type": "display_data"
    }
   ],
   "source": [
    "\n",
    "#     #which 3 porgramming language is mostly used in data sceince/data analyst Role\n",
    "langCol=df.columns[7:18]\n",
    "all_lang=df[langCol].stack()\n",
    "all_lang=all_lang.value_counts().sort_values(ascending=False).head(3)\n",
    "all_lang.plot(kind=\"pie\",autopct=\"%1.2f%%\")\n",
    "plt.title(\"Distribution of Programming Language\")\n",
    "plt.ylabel(\"\")"
   ]
  },
  {
   "cell_type": "code",
   "execution_count": 598,
   "id": "e8dfd2b0-6eab-4e02-8256-1c27956294e2",
   "metadata": {},
   "outputs": [],
   "source": [
    "#Data Scientists generally more experienced than Data Analysts in coding Years\n",
    "experieced=df[((df[\"Role\"]==\"Data Analyst\") | (df[\"Role\"]==\"Data Scientist\"))][[\"Role\",\"Coding_Years\"]].groupby([\"Role\",\"Coding_Years\"]).size()"
   ]
  },
  {
   "cell_type": "code",
   "execution_count": 616,
   "id": "1f62a370-757b-4f25-a112-4b7c8ed1779a",
   "metadata": {},
   "outputs": [],
   "source": [
    "experieced=experieced.reset_index(name=\"count\").sort_values([\"Role\",\"count\"],ascending=(True,False))"
   ]
  },
  {
   "cell_type": "code",
   "execution_count": 624,
   "id": "da960fcb-92e3-4e8d-b4f6-9a2e1ade04c0",
   "metadata": {},
   "outputs": [],
   "source": [
    "experieced=experieced.pivot_table(index=\"Coding_Years\",columns=\"Role\", values=\"count\")"
   ]
  },
  {
   "cell_type": "code",
   "execution_count": 701,
   "id": "1eef2b1e-f471-41ae-a7a4-d3a7a034b77b",
   "metadata": {},
   "outputs": [
    {
     "data": {
      "text/plain": [
       "Text(0.5, 1.0, 'Coding Experience Distribution: Data Scientists vs Data Analysts')"
      ]
     },
     "execution_count": 701,
     "metadata": {},
     "output_type": "execute_result"
    },
    {
     "data": {
      "image/png": "[encoded data removed]",
      "text/plain": [
       "<Figure size 640x480 with 1 Axes>"
      ]
     },
     "metadata": {},
     "output_type": "display_data"
    }
   ],
   "source": [
    "import matplotlib.pyplot as plt\n",
    "experieced.plot(kind=\"bar\")\n",
    "plt.ylabel(\"Number of Respondents\")\n",
    "plt.xlabel(\"Coding Years\")\n",
    "plt.title(\"Coding Experience Distribution: Data Scientists vs Data Analysts\")"
   ]
  },
  {
   "cell_type": "code",
   "execution_count": null,
   "id": "701eabfa-4160-4158-9a30-0bfad49ef6fc",
   "metadata": {},
   "outputs": [],
   "source": []
  },
  {
   "cell_type": "code",
   "execution_count": null,
   "id": "74c838f7-f1a1-4988-8498-90729b5ae7fa",
   "metadata": {},
   "outputs": [],
   "source": []
  },
  {
   "cell_type": "code",
   "execution_count": null,
   "id": "ac825be7-04a3-4316-a8f7-d2ec3a44497a",
   "metadata": {},
   "outputs": [],
   "source": []
  },
  {
   "cell_type": "code",
   "execution_count": null,
   "id": "f84944e3-bbc2-4d14-bf20-ef307229b97a",
   "metadata": {},
   "outputs": [],
   "source": []
  }
 ],
 "metadata": {
  "kernelspec": {
   "display_name": "Python [conda env:base] *",
   "language": "python",
   "name": "conda-base-py"
  },
  "language_info": {
   "codemirror_mode": {
    "name": "ipython",
    "version": 3
   },
   "file_extension": ".py",
   "mimetype": "text/x-python",
   "name": "python",
   "nbconvert_exporter": "python",
   "pygments_lexer": "ipython3",
   "version": "3.12.7"
  }
 },
 "nbformat": 4,
 "nbformat_minor": 5
}
